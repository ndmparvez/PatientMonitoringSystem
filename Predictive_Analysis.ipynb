{
  "nbformat": 4,
  "nbformat_minor": 0,
  "metadata": {
    "colab": {
      "name": "Predictive Analysis.ipynb",
      "provenance": [],
      "collapsed_sections": []
    },
    "kernelspec": {
      "name": "python3",
      "display_name": "Python 3"
    },
    "language_info": {
      "name": "python"
    }
  },
  "cells": [
    {
      "cell_type": "code",
      "metadata": {
        "id": "MfQHYG0sPjAF"
      },
      "source": [
        "import numpy as np\n",
        "import pandas as pd\n",
        "from sklearn.preprocessing import StandardScaler\n",
        "from sklearn.model_selection import train_test_split\n",
        "from sklearn import svm\n",
        "from sklearn.metrics import accuracy_score"
      ],
      "execution_count": null,
      "outputs": []
    },
    {
      "cell_type": "markdown",
      "metadata": {
        "id": "bmfOfG8joBBy"
      },
      "source": [
        "Data Collection and Analysis"
      ]
    },
    {
      "cell_type": "code",
      "metadata": {
        "id": "2GCDNpNdPycA"
      },
      "source": [
        "# loading the diabetes dataset to a pandas DataFrame\n",
        "diabetes_dataset = pd.read_csv('/content/diabetes.csv') #PIMA Diabetes Dataset"
      ],
      "execution_count": null,
      "outputs": []
    },
    {
      "cell_type": "code",
      "metadata": {
        "id": "wn9pXl7AQJee"
      },
      "source": [
        "# separating the data and labels\n",
        "X = diabetes_dataset.drop(columns = 'Outcome', axis=1)\n",
        "Y = diabetes_dataset['Outcome']"
      ],
      "execution_count": null,
      "outputs": []
    },
    {
      "cell_type": "code",
      "metadata": {
        "id": "5VEgOGihRJ7y",
        "colab": {
          "base_uri": "https://localhost:8080/"
        },
        "outputId": "906b710e-65e6-4d24-8cd9-2839355bb58e"
      },
      "source": [
        "print(X)\n",
        "print(Y)"
      ],
      "execution_count": null,
      "outputs": [
        {
          "output_type": "stream",
          "name": "stdout",
          "text": [
            "     Pregnancies  Glucose  BloodPressure  ...   BMI  DiabetesPedigreeFunction  Age\n",
            "0              6      148             72  ...  33.6                     0.627   50\n",
            "1              1       85             66  ...  26.6                     0.351   31\n",
            "2              8      183             64  ...  23.3                     0.672   32\n",
            "3              1       89             66  ...  28.1                     0.167   21\n",
            "4              0      137             40  ...  43.1                     2.288   33\n",
            "..           ...      ...            ...  ...   ...                       ...  ...\n",
            "763           10      101             76  ...  32.9                     0.171   63\n",
            "764            2      122             70  ...  36.8                     0.340   27\n",
            "765            5      121             72  ...  26.2                     0.245   30\n",
            "766            1      126             60  ...  30.1                     0.349   47\n",
            "767            1       93             70  ...  30.4                     0.315   23\n",
            "\n",
            "[768 rows x 8 columns]\n",
            "0      1\n",
            "1      0\n",
            "2      1\n",
            "3      0\n",
            "4      1\n",
            "      ..\n",
            "763    0\n",
            "764    0\n",
            "765    0\n",
            "766    1\n",
            "767    0\n",
            "Name: Outcome, Length: 768, dtype: int64\n"
          ]
        }
      ]
    },
    {
      "cell_type": "markdown",
      "metadata": {
        "id": "nFRI9JbERTDQ"
      },
      "source": [
        "Data Standardization"
      ]
    },
    {
      "cell_type": "code",
      "metadata": {
        "id": "zcnmB_6gRRS6"
      },
      "source": [
        "scaler = StandardScaler()"
      ],
      "execution_count": null,
      "outputs": []
    },
    {
      "cell_type": "code",
      "metadata": {
        "id": "FbFZU7ExRZ5i",
        "colab": {
          "base_uri": "https://localhost:8080/"
        },
        "outputId": "60da4e73-e4d0-4f11-de49-aba03b076644"
      },
      "source": [
        "scaler.fit(X)"
      ],
      "execution_count": null,
      "outputs": [
        {
          "output_type": "execute_result",
          "data": {
            "text/plain": [
              "StandardScaler()"
            ]
          },
          "metadata": {},
          "execution_count": 7
        }
      ]
    },
    {
      "cell_type": "code",
      "metadata": {
        "id": "dG6LFG-XRmLr"
      },
      "source": [
        "standardized_data = scaler.transform(X)"
      ],
      "execution_count": null,
      "outputs": []
    },
    {
      "cell_type": "code",
      "metadata": {
        "id": "ncg8AqOKRcBN"
      },
      "source": [
        "X = standardized_data\n",
        "Y = diabetes_dataset['Outcome']"
      ],
      "execution_count": null,
      "outputs": []
    },
    {
      "cell_type": "code",
      "metadata": {
        "id": "rrjbzLVdRpt4",
        "colab": {
          "base_uri": "https://localhost:8080/"
        },
        "outputId": "3cfcced5-3ed1-462e-8d0a-c95f3e54b5fe"
      },
      "source": [
        "print(X)\n",
        "print(Y)"
      ],
      "execution_count": null,
      "outputs": [
        {
          "output_type": "stream",
          "name": "stdout",
          "text": [
            "[[ 0.63994726  0.84832379  0.14964075 ...  0.20401277  0.46849198\n",
            "   1.4259954 ]\n",
            " [-0.84488505 -1.12339636 -0.16054575 ... -0.68442195 -0.36506078\n",
            "  -0.19067191]\n",
            " [ 1.23388019  1.94372388 -0.26394125 ... -1.10325546  0.60439732\n",
            "  -0.10558415]\n",
            " ...\n",
            " [ 0.3429808   0.00330087  0.14964075 ... -0.73518964 -0.68519336\n",
            "  -0.27575966]\n",
            " [-0.84488505  0.1597866  -0.47073225 ... -0.24020459 -0.37110101\n",
            "   1.17073215]\n",
            " [-0.84488505 -0.8730192   0.04624525 ... -0.20212881 -0.47378505\n",
            "  -0.87137393]]\n",
            "0      1\n",
            "1      0\n",
            "2      1\n",
            "3      0\n",
            "4      1\n",
            "      ..\n",
            "763    0\n",
            "764    0\n",
            "765    0\n",
            "766    1\n",
            "767    0\n",
            "Name: Outcome, Length: 768, dtype: int64\n"
          ]
        }
      ]
    },
    {
      "cell_type": "markdown",
      "metadata": {
        "id": "gHciEFkxsoQP"
      },
      "source": [
        "Train Test Split"
      ]
    },
    {
      "cell_type": "code",
      "metadata": {
        "id": "MoU67EA9R1o4"
      },
      "source": [
        "X_train, X_test, Y_train, Y_test = train_test_split(X,Y, test_size = 0.2, stratify=Y, random_state=2)"
      ],
      "execution_count": null,
      "outputs": []
    },
    {
      "cell_type": "code",
      "metadata": {
        "id": "5IicEB7eSV2D",
        "colab": {
          "base_uri": "https://localhost:8080/"
        },
        "outputId": "ae89388c-95cb-4b25-f99c-e9b67a4705c7"
      },
      "source": [
        "print(X.shape, X_train.shape, X_test.shape,)"
      ],
      "execution_count": null,
      "outputs": [
        {
          "output_type": "stream",
          "name": "stdout",
          "text": [
            "(768, 8) (614, 8) (154, 8)\n"
          ]
        }
      ]
    },
    {
      "cell_type": "code",
      "metadata": {
        "id": "nR3jRllrYGmF"
      },
      "source": [
        "classifier = svm.SVC(kernel='linear')"
      ],
      "execution_count": null,
      "outputs": []
    },
    {
      "cell_type": "code",
      "metadata": {
        "id": "gNDPO7o_YiXG",
        "colab": {
          "base_uri": "https://localhost:8080/"
        },
        "outputId": "8c3b12fb-62ec-4274-9e74-6d7a9122d968"
      },
      "source": [
        "#training the support vector Machine Classifier\n",
        "classifier.fit(X_train, Y_train)"
      ],
      "execution_count": null,
      "outputs": [
        {
          "output_type": "execute_result",
          "data": {
            "text/plain": [
              "SVC(kernel='linear')"
            ]
          },
          "metadata": {},
          "execution_count": 14
        }
      ]
    },
    {
      "cell_type": "markdown",
      "metadata": {
        "id": "HZknncS0Ym0v"
      },
      "source": [
        "Model Evaluation\n",
        "\n",
        "Accuracy Score"
      ]
    },
    {
      "cell_type": "code",
      "metadata": {
        "id": "CWImFUL5YlL8"
      },
      "source": [
        "# accuracy score on the training data\n",
        "X_train_prediction = classifier.predict(X_train)\n",
        "training_data_accuracy = accuracy_score(X_train_prediction, Y_train)"
      ],
      "execution_count": null,
      "outputs": []
    },
    {
      "cell_type": "code",
      "metadata": {
        "id": "p5VCYk-YZi1M",
        "colab": {
          "base_uri": "https://localhost:8080/"
        },
        "outputId": "f26a0bd1-0812-4987-c205-c76c849e124b"
      },
      "source": [
        "print('Accuracy score of the training data : ', training_data_accuracy)"
      ],
      "execution_count": null,
      "outputs": [
        {
          "output_type": "stream",
          "name": "stdout",
          "text": [
            "Accuracy score of the training data :  0.7866449511400652\n"
          ]
        }
      ]
    },
    {
      "cell_type": "code",
      "metadata": {
        "id": "nzh1pB7cZsoI"
      },
      "source": [
        "# accuracy score on the test data\n",
        "X_test_prediction = classifier.predict(X_test)\n",
        "test_data_accuracy = accuracy_score(X_test_prediction, Y_test)"
      ],
      "execution_count": null,
      "outputs": []
    },
    {
      "cell_type": "code",
      "metadata": {
        "id": "l77_fAyjZxUW",
        "colab": {
          "base_uri": "https://localhost:8080/"
        },
        "outputId": "ec42b33f-ab3a-4d6d-c8de-87f84cb68b13"
      },
      "source": [
        "print('Accuracy score of the test data : ', test_data_accuracy)"
      ],
      "execution_count": null,
      "outputs": [
        {
          "output_type": "stream",
          "name": "stdout",
          "text": [
            "Accuracy score of the test data :  0.7727272727272727\n"
          ]
        }
      ]
    },
    {
      "cell_type": "markdown",
      "metadata": {
        "id": "2ogS7SwdZ1zu"
      },
      "source": [
        "Predictive System"
      ]
    },
    {
      "cell_type": "code",
      "metadata": {
        "id": "VLAKWM-yZ3Mm",
        "colab": {
          "base_uri": "https://localhost:8080/"
        },
        "outputId": "24d64816-87ed-4876-ab65-28484696996d"
      },
      "source": [
        "input_data = (7,196,90,0,0,39.8,0.451,41) \n",
        "\n",
        "# changing the input_data to numpy array\n",
        "input_data_as_numpy_array = np.asarray(input_data)\n",
        "\n",
        "# reshape the array as we are predicting for one instance\n",
        "input_data_reshaped = input_data_as_numpy_array.reshape(1,-1)\n",
        "\n",
        "# standardize the input data\n",
        "std_data = scaler.transform(input_data_reshaped)\n",
        "print(std_data)\n",
        "\n",
        "prediction = classifier.predict(std_data)\n",
        "print(prediction)\n",
        "\n",
        "if (prediction[0] == 0):\n",
        "  print('The person is not diabetic')\n",
        "else:\n",
        "  print('The person is diabetic')"
      ],
      "execution_count": null,
      "outputs": [
        {
          "output_type": "stream",
          "name": "stdout",
          "text": [
            "[[ 0.93691372  2.35058677  1.08020025 -1.28821221 -0.69289057  0.99091209\n",
            "  -0.06304891  0.66020563]]\n",
            "[1]\n",
            "The person is diabetic\n"
          ]
        },
        {
          "output_type": "stream",
          "name": "stderr",
          "text": [
            "/usr/local/lib/python3.7/dist-packages/sklearn/base.py:446: UserWarning: X does not have valid feature names, but StandardScaler was fitted with feature names\n",
            "  \"X does not have valid feature names, but\"\n"
          ]
        }
      ]
    }
  ]
}